{
 "cells": [
  {
   "cell_type": "markdown",
   "metadata": {},
   "source": [
    "# **Actividad NLP 2.0 - Análisis de Sentimientos**\n",
    "---\n",
    "Diego Sú Gómez - A01620476"
   ]
  },
  {
   "cell_type": "markdown",
   "metadata": {},
   "source": [
    "## **Importación de librerías**"
   ]
  },
  {
   "cell_type": "code",
   "execution_count": 21,
   "metadata": {},
   "outputs": [
    {
     "name": "stderr",
     "output_type": "stream",
     "text": [
      "[nltk_data] Downloading package stopwords to\n",
      "[nltk_data]     C:\\Users\\diego\\AppData\\Roaming\\nltk_data...\n",
      "[nltk_data]   Package stopwords is already up-to-date!\n",
      "[nltk_data] Downloading package vader_lexicon to\n",
      "[nltk_data]     C:\\Users\\diego\\AppData\\Roaming\\nltk_data...\n",
      "[nltk_data]   Package vader_lexicon is already up-to-date!\n",
      "[nltk_data] Downloading package punkt to\n",
      "[nltk_data]     C:\\Users\\diego\\AppData\\Roaming\\nltk_data...\n",
      "[nltk_data]   Package punkt is already up-to-date!\n"
     ]
    }
   ],
   "source": [
    "#Importar las librerías\n",
    "import pandas as pd\n",
    "import numpy as np\n",
    "import nltk \n",
    "from nltk.sentiment.vader import SentimentIntensityAnalyzer\n",
    "from nltk.corpus import stopwords\n",
    "from nltk.tokenize import word_tokenize, sent_tokenize\n",
    "from nltk.stem import WordNetLemmatizer\n",
    "nltk.download(\"stopwords\")\n",
    "nltk.download(\"vader_lexicon\")\n",
    "nltk.download('punkt')\n",
    "pd.options.mode.chained_assignment = None  # default='warn'"
   ]
  },
  {
   "cell_type": "markdown",
   "metadata": {},
   "source": [
    "## **Aplicación del análisis de sentimientos**"
   ]
  },
  {
   "cell_type": "code",
   "execution_count": 8,
   "metadata": {},
   "outputs": [
    {
     "data": {
      "text/html": [
       "<div>\n",
       "<style scoped>\n",
       "    .dataframe tbody tr th:only-of-type {\n",
       "        vertical-align: middle;\n",
       "    }\n",
       "\n",
       "    .dataframe tbody tr th {\n",
       "        vertical-align: top;\n",
       "    }\n",
       "\n",
       "    .dataframe thead th {\n",
       "        text-align: right;\n",
       "    }\n",
       "</style>\n",
       "<table border=\"1\" class=\"dataframe\">\n",
       "  <thead>\n",
       "    <tr style=\"text-align: right;\">\n",
       "      <th></th>\n",
       "      <th>tweet</th>\n",
       "    </tr>\n",
       "  </thead>\n",
       "  <tbody>\n",
       "    <tr>\n",
       "      <th>0</th>\n",
       "      <td>@switchfoot http://twitpic.com/2y1zl - Awww, t...</td>\n",
       "    </tr>\n",
       "    <tr>\n",
       "      <th>0</th>\n",
       "      <td>is upset that he can't update his Facebook by ...</td>\n",
       "    </tr>\n",
       "    <tr>\n",
       "      <th>0</th>\n",
       "      <td>@Kenichan I dived many times for the ball. Man...</td>\n",
       "    </tr>\n",
       "    <tr>\n",
       "      <th>0</th>\n",
       "      <td>my whole body feels itchy and like its on fire</td>\n",
       "    </tr>\n",
       "    <tr>\n",
       "      <th>0</th>\n",
       "      <td>@nationwideclass no, it's not behaving at all....</td>\n",
       "    </tr>\n",
       "  </tbody>\n",
       "</table>\n",
       "</div>"
      ],
      "text/plain": [
       "                                               tweet\n",
       "0  @switchfoot http://twitpic.com/2y1zl - Awww, t...\n",
       "0  is upset that he can't update his Facebook by ...\n",
       "0  @Kenichan I dived many times for the ball. Man...\n",
       "0    my whole body feels itchy and like its on fire \n",
       "0  @nationwideclass no, it's not behaving at all...."
      ]
     },
     "execution_count": 8,
     "metadata": {},
     "output_type": "execute_result"
    }
   ],
   "source": [
    "#Descargar el dataset con los tweets\n",
    "df = pd.read_csv(\"dataset_tweets.csv\", header=None, names=[\"userid\",\"date\",\"query\",\"username\",\"tweet\"])\n",
    "df = df[[\"tweet\"]]\n",
    "df.head()"
   ]
  },
  {
   "cell_type": "code",
   "execution_count": 26,
   "metadata": {},
   "outputs": [
    {
     "data": {
      "text/plain": [
       "(1048576, 1)"
      ]
     },
     "execution_count": 26,
     "metadata": {},
     "output_type": "execute_result"
    }
   ],
   "source": [
    "df.shape"
   ]
  },
  {
   "cell_type": "code",
   "execution_count": 56,
   "metadata": {},
   "outputs": [
    {
     "data": {
      "text/html": [
       "<div>\n",
       "<style scoped>\n",
       "    .dataframe tbody tr th:only-of-type {\n",
       "        vertical-align: middle;\n",
       "    }\n",
       "\n",
       "    .dataframe tbody tr th {\n",
       "        vertical-align: top;\n",
       "    }\n",
       "\n",
       "    .dataframe thead th {\n",
       "        text-align: right;\n",
       "    }\n",
       "</style>\n",
       "<table border=\"1\" class=\"dataframe\">\n",
       "  <thead>\n",
       "    <tr style=\"text-align: right;\">\n",
       "      <th></th>\n",
       "      <th>tweet</th>\n",
       "    </tr>\n",
       "  </thead>\n",
       "  <tbody>\n",
       "    <tr>\n",
       "      <th>0</th>\n",
       "      <td>@switchfoot http://twitpic.com/2y1zl - Awww, t...</td>\n",
       "    </tr>\n",
       "    <tr>\n",
       "      <th>0</th>\n",
       "      <td>is upset that he can't update his Facebook by ...</td>\n",
       "    </tr>\n",
       "    <tr>\n",
       "      <th>0</th>\n",
       "      <td>@Kenichan I dived many times for the ball. Man...</td>\n",
       "    </tr>\n",
       "    <tr>\n",
       "      <th>0</th>\n",
       "      <td>my whole body feels itchy and like its on fire</td>\n",
       "    </tr>\n",
       "    <tr>\n",
       "      <th>0</th>\n",
       "      <td>@nationwideclass no, it's not behaving at all....</td>\n",
       "    </tr>\n",
       "    <tr>\n",
       "      <th>...</th>\n",
       "      <td>...</td>\n",
       "    </tr>\n",
       "    <tr>\n",
       "      <th>0</th>\n",
       "      <td>Doesn't feel good.</td>\n",
       "    </tr>\n",
       "    <tr>\n",
       "      <th>0</th>\n",
       "      <td>work... again</td>\n",
       "    </tr>\n",
       "    <tr>\n",
       "      <th>0</th>\n",
       "      <td>@damienfranco Its so common for it to crash no...</td>\n",
       "    </tr>\n",
       "    <tr>\n",
       "      <th>0</th>\n",
       "      <td>my baby boy is wearing big boy underwear</td>\n",
       "    </tr>\n",
       "    <tr>\n",
       "      <th>0</th>\n",
       "      <td>Fml! I forgot my phone charger @home!</td>\n",
       "    </tr>\n",
       "  </tbody>\n",
       "</table>\n",
       "<p>200000 rows × 1 columns</p>\n",
       "</div>"
      ],
      "text/plain": [
       "                                                tweet\n",
       "0   @switchfoot http://twitpic.com/2y1zl - Awww, t...\n",
       "0   is upset that he can't update his Facebook by ...\n",
       "0   @Kenichan I dived many times for the ball. Man...\n",
       "0     my whole body feels itchy and like its on fire \n",
       "0   @nationwideclass no, it's not behaving at all....\n",
       "..                                                ...\n",
       "0                                 Doesn't feel good. \n",
       "0                                      work... again \n",
       "0   @damienfranco Its so common for it to crash no...\n",
       "0           my baby boy is wearing big boy underwear \n",
       "0              Fml! I forgot my phone charger @home! \n",
       "\n",
       "[200000 rows x 1 columns]"
      ]
     },
     "execution_count": 56,
     "metadata": {},
     "output_type": "execute_result"
    }
   ],
   "source": [
    "df_short = df.iloc[:200000, :]\n",
    "df_short"
   ]
  },
  {
   "cell_type": "code",
   "execution_count": 57,
   "metadata": {},
   "outputs": [],
   "source": [
    "#Hacer una función para preprocesar los tweets\n",
    "def process_text(text):\n",
    "    tokens = word_tokenize(text.lower())\n",
    "    tokens_nostopwords = [token for token in tokens if token not in stopwords.words(\"english\")] #Eliminar las stopwords\n",
    "\n",
    "    lemmatizer = WordNetLemmatizer()\n",
    "    l_tokens = [lemmatizer.lemmatize(token) for token in tokens_nostopwords] #Lematizar los tokens restantes\n",
    "\n",
    "    processed_text = ' '.join(l_tokens) #Unirlos en un texto simple\n",
    "    return processed_text"
   ]
  },
  {
   "cell_type": "code",
   "execution_count": 58,
   "metadata": {},
   "outputs": [
    {
     "data": {
      "text/html": [
       "<div>\n",
       "<style scoped>\n",
       "    .dataframe tbody tr th:only-of-type {\n",
       "        vertical-align: middle;\n",
       "    }\n",
       "\n",
       "    .dataframe tbody tr th {\n",
       "        vertical-align: top;\n",
       "    }\n",
       "\n",
       "    .dataframe thead th {\n",
       "        text-align: right;\n",
       "    }\n",
       "</style>\n",
       "<table border=\"1\" class=\"dataframe\">\n",
       "  <thead>\n",
       "    <tr style=\"text-align: right;\">\n",
       "      <th></th>\n",
       "      <th>tweet</th>\n",
       "      <th>tweet_processed</th>\n",
       "    </tr>\n",
       "  </thead>\n",
       "  <tbody>\n",
       "    <tr>\n",
       "      <th>0</th>\n",
       "      <td>@switchfoot http://twitpic.com/2y1zl - Awww, t...</td>\n",
       "      <td>@ switchfoot http : //twitpic.com/2y1zl - awww...</td>\n",
       "    </tr>\n",
       "    <tr>\n",
       "      <th>0</th>\n",
       "      <td>is upset that he can't update his Facebook by ...</td>\n",
       "      <td>upset ca n't update facebook texting ... might...</td>\n",
       "    </tr>\n",
       "    <tr>\n",
       "      <th>0</th>\n",
       "      <td>@Kenichan I dived many times for the ball. Man...</td>\n",
       "      <td>@ kenichan dived many time ball . managed save...</td>\n",
       "    </tr>\n",
       "    <tr>\n",
       "      <th>0</th>\n",
       "      <td>my whole body feels itchy and like its on fire</td>\n",
       "      <td>whole body feel itchy like fire</td>\n",
       "    </tr>\n",
       "    <tr>\n",
       "      <th>0</th>\n",
       "      <td>@nationwideclass no, it's not behaving at all....</td>\n",
       "      <td>@ nationwideclass , 's behaving . 'm mad . ? c...</td>\n",
       "    </tr>\n",
       "  </tbody>\n",
       "</table>\n",
       "</div>"
      ],
      "text/plain": [
       "                                               tweet  \\\n",
       "0  @switchfoot http://twitpic.com/2y1zl - Awww, t...   \n",
       "0  is upset that he can't update his Facebook by ...   \n",
       "0  @Kenichan I dived many times for the ball. Man...   \n",
       "0    my whole body feels itchy and like its on fire    \n",
       "0  @nationwideclass no, it's not behaving at all....   \n",
       "\n",
       "                                     tweet_processed  \n",
       "0  @ switchfoot http : //twitpic.com/2y1zl - awww...  \n",
       "0  upset ca n't update facebook texting ... might...  \n",
       "0  @ kenichan dived many time ball . managed save...  \n",
       "0                    whole body feel itchy like fire  \n",
       "0  @ nationwideclass , 's behaving . 'm mad . ? c...  "
      ]
     },
     "execution_count": 58,
     "metadata": {},
     "output_type": "execute_result"
    }
   ],
   "source": [
    "#Aplicar el preprocesamiento al dataset\n",
    "df_short[\"tweet_processed\"] = df_short[\"tweet\"].apply(process_text)\n",
    "df_short.head()"
   ]
  },
  {
   "cell_type": "code",
   "execution_count": 59,
   "metadata": {},
   "outputs": [],
   "source": [
    "#Realizar la función para el sentiment analysis de cada uno de los tweets\n",
    "analyzer = SentimentIntensityAnalyzer()\n",
    "\n",
    "def get_sentiment(text):\n",
    "    score = analyzer.polarity_scores(text)\n",
    "    if score[\"compound\"] >= 0.05:\n",
    "        feel = \"Positive\"\n",
    "    elif score[\"compound\"] <= -0.05:\n",
    "        feel = \"Negative\"\n",
    "    else:\n",
    "        feel = \"Neutral\"\n",
    "    return feel"
   ]
  },
  {
   "cell_type": "code",
   "execution_count": 60,
   "metadata": {},
   "outputs": [
    {
     "data": {
      "text/html": [
       "<div>\n",
       "<style scoped>\n",
       "    .dataframe tbody tr th:only-of-type {\n",
       "        vertical-align: middle;\n",
       "    }\n",
       "\n",
       "    .dataframe tbody tr th {\n",
       "        vertical-align: top;\n",
       "    }\n",
       "\n",
       "    .dataframe thead th {\n",
       "        text-align: right;\n",
       "    }\n",
       "</style>\n",
       "<table border=\"1\" class=\"dataframe\">\n",
       "  <thead>\n",
       "    <tr style=\"text-align: right;\">\n",
       "      <th></th>\n",
       "      <th>tweet</th>\n",
       "      <th>tweet_processed</th>\n",
       "      <th>sentiment</th>\n",
       "    </tr>\n",
       "  </thead>\n",
       "  <tbody>\n",
       "    <tr>\n",
       "      <th>0</th>\n",
       "      <td>@switchfoot http://twitpic.com/2y1zl - Awww, t...</td>\n",
       "      <td>@ switchfoot http : //twitpic.com/2y1zl - awww...</td>\n",
       "      <td>Negative</td>\n",
       "    </tr>\n",
       "    <tr>\n",
       "      <th>0</th>\n",
       "      <td>is upset that he can't update his Facebook by ...</td>\n",
       "      <td>upset ca n't update facebook texting ... might...</td>\n",
       "      <td>Negative</td>\n",
       "    </tr>\n",
       "    <tr>\n",
       "      <th>0</th>\n",
       "      <td>@Kenichan I dived many times for the ball. Man...</td>\n",
       "      <td>@ kenichan dived many time ball . managed save...</td>\n",
       "      <td>Positive</td>\n",
       "    </tr>\n",
       "    <tr>\n",
       "      <th>0</th>\n",
       "      <td>my whole body feels itchy and like its on fire</td>\n",
       "      <td>whole body feel itchy like fire</td>\n",
       "      <td>Negative</td>\n",
       "    </tr>\n",
       "    <tr>\n",
       "      <th>0</th>\n",
       "      <td>@nationwideclass no, it's not behaving at all....</td>\n",
       "      <td>@ nationwideclass , 's behaving . 'm mad . ? c...</td>\n",
       "      <td>Negative</td>\n",
       "    </tr>\n",
       "  </tbody>\n",
       "</table>\n",
       "</div>"
      ],
      "text/plain": [
       "                                               tweet  \\\n",
       "0  @switchfoot http://twitpic.com/2y1zl - Awww, t...   \n",
       "0  is upset that he can't update his Facebook by ...   \n",
       "0  @Kenichan I dived many times for the ball. Man...   \n",
       "0    my whole body feels itchy and like its on fire    \n",
       "0  @nationwideclass no, it's not behaving at all....   \n",
       "\n",
       "                                     tweet_processed sentiment  \n",
       "0  @ switchfoot http : //twitpic.com/2y1zl - awww...  Negative  \n",
       "0  upset ca n't update facebook texting ... might...  Negative  \n",
       "0  @ kenichan dived many time ball . managed save...  Positive  \n",
       "0                    whole body feel itchy like fire  Negative  \n",
       "0  @ nationwideclass , 's behaving . 'm mad . ? c...  Negative  "
      ]
     },
     "execution_count": 60,
     "metadata": {},
     "output_type": "execute_result"
    }
   ],
   "source": [
    "#Analizar los sentimientos de cada uno de los tweets\n",
    "df_short[\"sentiment\"] = df_short[\"tweet_processed\"].apply(get_sentiment)\n",
    "df_short.head()"
   ]
  },
  {
   "cell_type": "code",
   "execution_count": 61,
   "metadata": {},
   "outputs": [
    {
     "data": {
      "text/plain": [
       "Negative    75983\n",
       "Positive    70290\n",
       "Neutral     53727\n",
       "Name: sentiment, dtype: int64"
      ]
     },
     "execution_count": 61,
     "metadata": {},
     "output_type": "execute_result"
    }
   ],
   "source": [
    "df_short[\"sentiment\"].value_counts()"
   ]
  },
  {
   "cell_type": "code",
   "execution_count": 62,
   "metadata": {},
   "outputs": [
    {
     "data": {
      "text/html": [
       "<div>\n",
       "<style scoped>\n",
       "    .dataframe tbody tr th:only-of-type {\n",
       "        vertical-align: middle;\n",
       "    }\n",
       "\n",
       "    .dataframe tbody tr th {\n",
       "        vertical-align: top;\n",
       "    }\n",
       "\n",
       "    .dataframe thead th {\n",
       "        text-align: right;\n",
       "    }\n",
       "</style>\n",
       "<table border=\"1\" class=\"dataframe\">\n",
       "  <thead>\n",
       "    <tr style=\"text-align: right;\">\n",
       "      <th></th>\n",
       "      <th>tweet</th>\n",
       "      <th>tweet_processed</th>\n",
       "      <th>sentiment</th>\n",
       "    </tr>\n",
       "  </thead>\n",
       "  <tbody>\n",
       "    <tr>\n",
       "      <th>0</th>\n",
       "      <td>@Kenichan I dived many times for the ball. Man...</td>\n",
       "      <td>@ kenichan dived many time ball . managed save...</td>\n",
       "      <td>Positive</td>\n",
       "    </tr>\n",
       "    <tr>\n",
       "      <th>0</th>\n",
       "      <td>Need a hug</td>\n",
       "      <td>need hug</td>\n",
       "      <td>Positive</td>\n",
       "    </tr>\n",
       "    <tr>\n",
       "      <th>0</th>\n",
       "      <td>@LOLTrish hey  long time no see! Yes.. Rains a...</td>\n",
       "      <td>@ loltrish hey long time see ! yes .. rain bit...</td>\n",
       "      <td>Positive</td>\n",
       "    </tr>\n",
       "    <tr>\n",
       "      <th>0</th>\n",
       "      <td>@smarrison i would've been the first, but i di...</td>\n",
       "      <td>@ smarrison would 've first , n't gun . really...</td>\n",
       "      <td>Positive</td>\n",
       "    </tr>\n",
       "    <tr>\n",
       "      <th>0</th>\n",
       "      <td>@iamjazzyfizzle I wish I got to watch it with ...</td>\n",
       "      <td>@ iamjazzyfizzle wish got watch ! ! miss @ iam...</td>\n",
       "      <td>Positive</td>\n",
       "    </tr>\n",
       "  </tbody>\n",
       "</table>\n",
       "</div>"
      ],
      "text/plain": [
       "                                               tweet  \\\n",
       "0  @Kenichan I dived many times for the ball. Man...   \n",
       "0                                        Need a hug    \n",
       "0  @LOLTrish hey  long time no see! Yes.. Rains a...   \n",
       "0  @smarrison i would've been the first, but i di...   \n",
       "0  @iamjazzyfizzle I wish I got to watch it with ...   \n",
       "\n",
       "                                     tweet_processed sentiment  \n",
       "0  @ kenichan dived many time ball . managed save...  Positive  \n",
       "0                                           need hug  Positive  \n",
       "0  @ loltrish hey long time see ! yes .. rain bit...  Positive  \n",
       "0  @ smarrison would 've first , n't gun . really...  Positive  \n",
       "0  @ iamjazzyfizzle wish got watch ! ! miss @ iam...  Positive  "
      ]
     },
     "execution_count": 62,
     "metadata": {},
     "output_type": "execute_result"
    }
   ],
   "source": [
    "df_short[df_short[\"sentiment\"]==\"Positive\"].head()"
   ]
  },
  {
   "cell_type": "code",
   "execution_count": 63,
   "metadata": {},
   "outputs": [
    {
     "data": {
      "text/html": [
       "<div>\n",
       "<style scoped>\n",
       "    .dataframe tbody tr th:only-of-type {\n",
       "        vertical-align: middle;\n",
       "    }\n",
       "\n",
       "    .dataframe tbody tr th {\n",
       "        vertical-align: top;\n",
       "    }\n",
       "\n",
       "    .dataframe thead th {\n",
       "        text-align: right;\n",
       "    }\n",
       "</style>\n",
       "<table border=\"1\" class=\"dataframe\">\n",
       "  <thead>\n",
       "    <tr style=\"text-align: right;\">\n",
       "      <th></th>\n",
       "      <th>tweet</th>\n",
       "      <th>tweet_processed</th>\n",
       "      <th>sentiment</th>\n",
       "    </tr>\n",
       "  </thead>\n",
       "  <tbody>\n",
       "    <tr>\n",
       "      <th>0</th>\n",
       "      <td>@switchfoot http://twitpic.com/2y1zl - Awww, t...</td>\n",
       "      <td>@ switchfoot http : //twitpic.com/2y1zl - awww...</td>\n",
       "      <td>Negative</td>\n",
       "    </tr>\n",
       "    <tr>\n",
       "      <th>0</th>\n",
       "      <td>is upset that he can't update his Facebook by ...</td>\n",
       "      <td>upset ca n't update facebook texting ... might...</td>\n",
       "      <td>Negative</td>\n",
       "    </tr>\n",
       "    <tr>\n",
       "      <th>0</th>\n",
       "      <td>my whole body feels itchy and like its on fire</td>\n",
       "      <td>whole body feel itchy like fire</td>\n",
       "      <td>Negative</td>\n",
       "    </tr>\n",
       "    <tr>\n",
       "      <th>0</th>\n",
       "      <td>@nationwideclass no, it's not behaving at all....</td>\n",
       "      <td>@ nationwideclass , 's behaving . 'm mad . ? c...</td>\n",
       "      <td>Negative</td>\n",
       "    </tr>\n",
       "    <tr>\n",
       "      <th>0</th>\n",
       "      <td>@caregiving I couldn't bear to watch it.  And ...</td>\n",
       "      <td>@ caregiving could n't bear watch . thought ua...</td>\n",
       "      <td>Negative</td>\n",
       "    </tr>\n",
       "  </tbody>\n",
       "</table>\n",
       "</div>"
      ],
      "text/plain": [
       "                                               tweet  \\\n",
       "0  @switchfoot http://twitpic.com/2y1zl - Awww, t...   \n",
       "0  is upset that he can't update his Facebook by ...   \n",
       "0    my whole body feels itchy and like its on fire    \n",
       "0  @nationwideclass no, it's not behaving at all....   \n",
       "0  @caregiving I couldn't bear to watch it.  And ...   \n",
       "\n",
       "                                     tweet_processed sentiment  \n",
       "0  @ switchfoot http : //twitpic.com/2y1zl - awww...  Negative  \n",
       "0  upset ca n't update facebook texting ... might...  Negative  \n",
       "0                    whole body feel itchy like fire  Negative  \n",
       "0  @ nationwideclass , 's behaving . 'm mad . ? c...  Negative  \n",
       "0  @ caregiving could n't bear watch . thought ua...  Negative  "
      ]
     },
     "execution_count": 63,
     "metadata": {},
     "output_type": "execute_result"
    }
   ],
   "source": [
    "df_short[df_short[\"sentiment\"]==\"Negative\"].head()"
   ]
  },
  {
   "cell_type": "code",
   "execution_count": 64,
   "metadata": {},
   "outputs": [
    {
     "data": {
      "text/html": [
       "<div>\n",
       "<style scoped>\n",
       "    .dataframe tbody tr th:only-of-type {\n",
       "        vertical-align: middle;\n",
       "    }\n",
       "\n",
       "    .dataframe tbody tr th {\n",
       "        vertical-align: top;\n",
       "    }\n",
       "\n",
       "    .dataframe thead th {\n",
       "        text-align: right;\n",
       "    }\n",
       "</style>\n",
       "<table border=\"1\" class=\"dataframe\">\n",
       "  <thead>\n",
       "    <tr style=\"text-align: right;\">\n",
       "      <th></th>\n",
       "      <th>tweet</th>\n",
       "      <th>tweet_processed</th>\n",
       "      <th>sentiment</th>\n",
       "    </tr>\n",
       "  </thead>\n",
       "  <tbody>\n",
       "    <tr>\n",
       "      <th>0</th>\n",
       "      <td>@Kwesidei not the whole crew</td>\n",
       "      <td>@ kwesidei whole crew</td>\n",
       "      <td>Neutral</td>\n",
       "    </tr>\n",
       "    <tr>\n",
       "      <th>0</th>\n",
       "      <td>@Tatiana_K nope they didn't have it</td>\n",
       "      <td>@ tatiana_k nope n't</td>\n",
       "      <td>Neutral</td>\n",
       "    </tr>\n",
       "    <tr>\n",
       "      <th>0</th>\n",
       "      <td>@twittera que me muera ?</td>\n",
       "      <td>@ twittera que muera ?</td>\n",
       "      <td>Neutral</td>\n",
       "    </tr>\n",
       "    <tr>\n",
       "      <th>0</th>\n",
       "      <td>spring break in plain city... it's snowing</td>\n",
       "      <td>spring break plain city ... 's snowing</td>\n",
       "      <td>Neutral</td>\n",
       "    </tr>\n",
       "    <tr>\n",
       "      <th>0</th>\n",
       "      <td>I just re-pierced my ears</td>\n",
       "      <td>re-pierced ear</td>\n",
       "      <td>Neutral</td>\n",
       "    </tr>\n",
       "  </tbody>\n",
       "</table>\n",
       "</div>"
      ],
      "text/plain": [
       "                                         tweet  \\\n",
       "0                @Kwesidei not the whole crew    \n",
       "0         @Tatiana_K nope they didn't have it    \n",
       "0                    @twittera que me muera ?    \n",
       "0  spring break in plain city... it's snowing    \n",
       "0                   I just re-pierced my ears    \n",
       "\n",
       "                          tweet_processed sentiment  \n",
       "0                   @ kwesidei whole crew   Neutral  \n",
       "0                    @ tatiana_k nope n't   Neutral  \n",
       "0                  @ twittera que muera ?   Neutral  \n",
       "0  spring break plain city ... 's snowing   Neutral  \n",
       "0                          re-pierced ear   Neutral  "
      ]
     },
     "execution_count": 64,
     "metadata": {},
     "output_type": "execute_result"
    }
   ],
   "source": [
    "df_short[df_short[\"sentiment\"]==\"Neutral\"].head()"
   ]
  },
  {
   "cell_type": "markdown",
   "metadata": {},
   "source": [
    "## **Contabilización de oraciones**\n",
    "---"
   ]
  },
  {
   "cell_type": "code",
   "execution_count": 65,
   "metadata": {},
   "outputs": [],
   "source": [
    "#Realizar una función para contabilizar el número de oraciones de los tweets seleccionados\n",
    "def count_sentences(text):\n",
    "    sents = sent_tokenize(text)\n",
    "    return len(sents)"
   ]
  },
  {
   "cell_type": "code",
   "execution_count": 66,
   "metadata": {},
   "outputs": [
    {
     "data": {
      "text/html": [
       "<div>\n",
       "<style scoped>\n",
       "    .dataframe tbody tr th:only-of-type {\n",
       "        vertical-align: middle;\n",
       "    }\n",
       "\n",
       "    .dataframe tbody tr th {\n",
       "        vertical-align: top;\n",
       "    }\n",
       "\n",
       "    .dataframe thead th {\n",
       "        text-align: right;\n",
       "    }\n",
       "</style>\n",
       "<table border=\"1\" class=\"dataframe\">\n",
       "  <thead>\n",
       "    <tr style=\"text-align: right;\">\n",
       "      <th></th>\n",
       "      <th>tweet</th>\n",
       "      <th>tweet_processed</th>\n",
       "      <th>sentiment</th>\n",
       "      <th>no_sentences</th>\n",
       "    </tr>\n",
       "  </thead>\n",
       "  <tbody>\n",
       "    <tr>\n",
       "      <th>0</th>\n",
       "      <td>@switchfoot http://twitpic.com/2y1zl - Awww, t...</td>\n",
       "      <td>@ switchfoot http : //twitpic.com/2y1zl - awww...</td>\n",
       "      <td>Negative</td>\n",
       "      <td>3</td>\n",
       "    </tr>\n",
       "    <tr>\n",
       "      <th>0</th>\n",
       "      <td>is upset that he can't update his Facebook by ...</td>\n",
       "      <td>upset ca n't update facebook texting ... might...</td>\n",
       "      <td>Negative</td>\n",
       "      <td>2</td>\n",
       "    </tr>\n",
       "    <tr>\n",
       "      <th>0</th>\n",
       "      <td>@Kenichan I dived many times for the ball. Man...</td>\n",
       "      <td>@ kenichan dived many time ball . managed save...</td>\n",
       "      <td>Positive</td>\n",
       "      <td>2</td>\n",
       "    </tr>\n",
       "    <tr>\n",
       "      <th>0</th>\n",
       "      <td>my whole body feels itchy and like its on fire</td>\n",
       "      <td>whole body feel itchy like fire</td>\n",
       "      <td>Negative</td>\n",
       "      <td>1</td>\n",
       "    </tr>\n",
       "    <tr>\n",
       "      <th>0</th>\n",
       "      <td>@nationwideclass no, it's not behaving at all....</td>\n",
       "      <td>@ nationwideclass , 's behaving . 'm mad . ? c...</td>\n",
       "      <td>Negative</td>\n",
       "      <td>4</td>\n",
       "    </tr>\n",
       "  </tbody>\n",
       "</table>\n",
       "</div>"
      ],
      "text/plain": [
       "                                               tweet  \\\n",
       "0  @switchfoot http://twitpic.com/2y1zl - Awww, t...   \n",
       "0  is upset that he can't update his Facebook by ...   \n",
       "0  @Kenichan I dived many times for the ball. Man...   \n",
       "0    my whole body feels itchy and like its on fire    \n",
       "0  @nationwideclass no, it's not behaving at all....   \n",
       "\n",
       "                                     tweet_processed sentiment  no_sentences  \n",
       "0  @ switchfoot http : //twitpic.com/2y1zl - awww...  Negative             3  \n",
       "0  upset ca n't update facebook texting ... might...  Negative             2  \n",
       "0  @ kenichan dived many time ball . managed save...  Positive             2  \n",
       "0                    whole body feel itchy like fire  Negative             1  \n",
       "0  @ nationwideclass , 's behaving . 'm mad . ? c...  Negative             4  "
      ]
     },
     "execution_count": 66,
     "metadata": {},
     "output_type": "execute_result"
    }
   ],
   "source": [
    "df_short[\"no_sentences\"] = df_short[\"tweet_processed\"].apply(count_sentences)\n",
    "df_short.head()"
   ]
  },
  {
   "cell_type": "code",
   "execution_count": 67,
   "metadata": {},
   "outputs": [
    {
     "name": "stdout",
     "output_type": "stream",
     "text": [
      "Suma total de oraciones: 366698\n",
      "Total de tweets usados: 200000\n",
      "Media de oraciones por tweet: 1.83349\n"
     ]
    }
   ],
   "source": [
    "#Obtener el número total de oraciones de los tweets seleccionados\n",
    "print(\"Suma total de oraciones:\",df_short[\"no_sentences\"].sum())\n",
    "print(\"Total de tweets usados:\",len(df_short))\n",
    "print(\"Media de oraciones por tweet:\",df_short[\"no_sentences\"].mean())"
   ]
  }
 ],
 "metadata": {
  "kernelspec": {
   "display_name": "Python 3",
   "language": "python",
   "name": "python3"
  },
  "language_info": {
   "codemirror_mode": {
    "name": "ipython",
    "version": 3
   },
   "file_extension": ".py",
   "mimetype": "text/x-python",
   "name": "python",
   "nbconvert_exporter": "python",
   "pygments_lexer": "ipython3",
   "version": "3.9.13"
  }
 },
 "nbformat": 4,
 "nbformat_minor": 2
}
